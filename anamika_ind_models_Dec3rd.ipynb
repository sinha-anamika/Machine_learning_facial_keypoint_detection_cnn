{
 "cells": [
  {
   "cell_type": "markdown",
   "metadata": {
    "collapsed": false
   },
   "source": [
    "# Net3 model: Training individual facial features as models\n",
    "## Loading pre-trained model."
   ]
  },
  {
   "cell_type": "code",
   "execution_count": 38,
   "metadata": {
    "collapsed": false
   },
   "outputs": [],
   "source": [
    "%matplotlib inline\n",
    "\n",
    "import numpy as np\n",
    "import matplotlib\n",
    "import matplotlib.pyplot as plt\n",
    "import os\n",
    "import time\n",
    "import pandas as pd\n",
    "from pandas.io.parsers import read_csv\n",
    "from sklearn.utils import shuffle\n",
    "from sklearn.cross_validation import train_test_split\n",
    "import tensorflow as tf"
   ]
  },
  {
   "cell_type": "markdown",
   "metadata": {},
   "source": [
    "### Get data and load"
   ]
  },
  {
   "cell_type": "code",
   "execution_count": 3,
   "metadata": {
    "collapsed": false
   },
   "outputs": [
    {
     "name": "stdout",
     "output_type": "stream",
     "text": [
      "left_eye_center_x            7039\n",
      "left_eye_center_y            7039\n",
      "right_eye_center_x           7036\n",
      "right_eye_center_y           7036\n",
      "left_eye_inner_corner_x      2271\n",
      "left_eye_inner_corner_y      2271\n",
      "left_eye_outer_corner_x      2267\n",
      "left_eye_outer_corner_y      2267\n",
      "right_eye_inner_corner_x     2268\n",
      "right_eye_inner_corner_y     2268\n",
      "right_eye_outer_corner_x     2268\n",
      "right_eye_outer_corner_y     2268\n",
      "left_eyebrow_inner_end_x     2270\n",
      "left_eyebrow_inner_end_y     2270\n",
      "left_eyebrow_outer_end_x     2225\n",
      "left_eyebrow_outer_end_y     2225\n",
      "right_eyebrow_inner_end_x    2270\n",
      "right_eyebrow_inner_end_y    2270\n",
      "right_eyebrow_outer_end_x    2236\n",
      "right_eyebrow_outer_end_y    2236\n",
      "nose_tip_x                   7049\n",
      "nose_tip_y                   7049\n",
      "mouth_left_corner_x          2269\n",
      "mouth_left_corner_y          2269\n",
      "mouth_right_corner_x         2270\n",
      "mouth_right_corner_y         2270\n",
      "mouth_center_top_lip_x       2275\n",
      "mouth_center_top_lip_y       2275\n",
      "mouth_center_bottom_lip_x    7016\n",
      "mouth_center_bottom_lip_y    7016\n",
      "Image                        7049\n",
      "dtype: int64\n"
     ]
    }
   ],
   "source": [
    "FROOT = os.getcwd() \n",
    "FTRAIN = FROOT + '/data/training.csv'\n",
    "FTEST = FROOT + '/data/test.csv'\n",
    "\n",
    "def load(test = False, cols = None):\n",
    "    \"\"\"\n",
    "    Loads the data. Gets training data by default. \n",
    "    cols = None gets all columns. \n",
    "    cols  is set to individual column names using the facial_group_col in facial_group_settings\n",
    "    function. This parameter is set only while training individual facial group models.\n",
    "    \n",
    "    Returns a tuple(X,y) for training, y has none for test.\n",
    "      \n",
    "    \"\"\"\n",
    "    \n",
    "    if test:\n",
    "        fname = FTEST \n",
    "    else: \n",
    "        fname =FTRAIN\n",
    "        \n",
    "    df = read_csv(os.path.expanduser(fname))  \n",
    "\n",
    "    # The Image column has pixel values separated by space; convert\n",
    "    # the values to numpy arrays:\n",
    "    df['Image'] = df['Image'].apply(lambda im: np.fromstring(im, sep = ' '))\n",
    "\n",
    "    if cols:  # get a subset of columns\n",
    "        df = df[list(cols) + ['Image']]\n",
    "\n",
    "    print(df.count())  # prints the number of values for each column\n",
    "    df = df.dropna()  # drop all rows that have missing values in them\n",
    "    \n",
    "    # Normalize pixel values to be within [0, 1]\n",
    "    X = np.vstack(df['Image'].values) / 255. \n",
    "    X = X.astype(np.float32)\n",
    "\n",
    "    if not test:  # only FTRAIN has any target columns\n",
    "        y = df[df.columns[:-1]].values\n",
    "        y = (y - 48) / 48  # scale target coordinates to [-1, 1]\n",
    "        \n",
    "        #shuffle train data\n",
    "        shuffle = np.random.permutation(np.arange(X.shape[0]))\n",
    "        X, y = X[shuffle], y[shuffle]\n",
    "\n",
    "        \n",
    "        y = y.astype(np.float32)\n",
    "    else:\n",
    "        y = None\n",
    "\n",
    "    return X, y\n",
    "\n",
    "    \n",
    "X, y = load()\n",
    "\n"
   ]
  },
  {
   "cell_type": "code",
   "execution_count": 11,
   "metadata": {
    "collapsed": false
   },
   "outputs": [],
   "source": [
    "num_channels = 1 # grayscale\n",
    "image_size = 96\n",
    "#load2d reshapes the data to be used for convolutional layers\n",
    "def load2d(test = False, cols = None):\n",
    "    X, y = load(test = test, cols = cols)\n",
    "    X = X.reshape(-1, image_size, image_size, num_channels)\n",
    "    return X, y\n",
    "\n"
   ]
  },
  {
   "cell_type": "markdown",
   "metadata": {},
   "source": [
    "\n",
    "## Individual model settings\n",
    "\n",
    "On examining the number of datapoints available for each feature, individual models are made by grouping similar features based on number of data points availabe. the main idea being to maximize use of data. Below is the reasoning behind combining different labels.\n",
    "\n",
    "1. First I considered putting all eye data into one model, but as we can see above that left_eye_center_x, left_eye_center_y, right_eye_center_x , right_eye_center_y have more than 7000 data points while the remining\n",
    "eye data points only have 2267 - 2271 data points. So eye data points have been split into two models namely eye center and eye corner.\n",
    "left_eye_center_x            7039\n",
    "left_eye_center_y            7039\n",
    "right_eye_center_x           7036\n",
    "right_eye_center_y           7036\n",
    "\n",
    "#### Facial_group_models - Thirty keypoints have been grouped in six types to create specialized models\n",
    "#### These specialized models are eye_center, eye_corners, nose_tip, mouth_corner_top, mouth_bottom and eyebrow."
   ]
  },
  {
   "cell_type": "code",
   "execution_count": 4,
   "metadata": {
    "collapsed": false
   },
   "outputs": [],
   "source": [
    "#Uncomment the dict to run a particular model\n",
    "facial_group_labels = [\n",
    "   \n",
    "    dict(\n",
    "        name = \"mouth_corner_top\",\n",
    "        columns = (\n",
    "            'mouth_left_corner_x', 'mouth_left_corner_y',\n",
    "            'mouth_right_corner_x', 'mouth_right_corner_y',\n",
    "            'mouth_center_top_lip_x', 'mouth_center_top_lip_y',\n",
    "            )),\n",
    "     \n",
    "#      dict(\n",
    "#          name = \"nose_tip\",\n",
    "#          columns = (\n",
    "#              'nose_tip_x', 'nose_tip_y',\n",
    "#              )),\n",
    "\n",
    "#     dict(\n",
    "#         name = \"mouth_bottom\",\n",
    "#         columns = (\n",
    "#             'mouth_center_bottom_lip_x',\n",
    "#             'mouth_center_bottom_lip_y',\n",
    "#             )),\n",
    "\n",
    "#     dict(\n",
    "#         name = \"eye_corner\",\n",
    "#         columns = (\n",
    "#             'left_eye_inner_corner_x', 'left_eye_inner_corner_y',\n",
    "#             'right_eye_inner_corner_x', 'right_eye_inner_corner_y',\n",
    "#             'left_eye_outer_corner_x', 'left_eye_outer_corner_y',\n",
    "#             'right_eye_outer_corner_x', 'right_eye_outer_corner_y',\n",
    "#             )),\n",
    "#\n",
    "    dict(\n",
    "        name = \"eyebrow\",\n",
    "        columns = (\n",
    "            'left_eyebrow_inner_end_x', 'left_eyebrow_inner_end_y',\n",
    "            'right_eyebrow_inner_end_x', 'right_eyebrow_inner_end_y',\n",
    "            'left_eyebrow_outer_end_x', 'left_eyebrow_outer_end_y',\n",
    "            'right_eyebrow_outer_end_x', 'right_eyebrow_outer_end_y',\n",
    "            )),\n",
    "    \n",
    "#      dict(\n",
    "#         name = \"eye_center\",\n",
    "#         columns = (\n",
    "#             'left_eye_center_x', 'left_eye_center_y',\n",
    "#             'right_eye_center_x', 'right_eye_center_y',\n",
    "#             )),\n",
    "    ]    "
   ]
  },
  {
   "cell_type": "markdown",
   "metadata": {},
   "source": [
    "## Functions"
   ]
  },
  {
   "cell_type": "code",
   "execution_count": 5,
   "metadata": {
    "collapsed": true
   },
   "outputs": [],
   "source": [
    "#creating file path to store individual facial model data\n",
    "\n",
    "root_location = FROOT + \"/models/\"\n",
    "\n",
    "\n",
    "def model_name(facial_model_name):\n",
    "    return \"model_\" + facial_model_name\n",
    "\n",
    "def model_path(facial_model_name):\n",
    "    return root_location + \"ind_models/\" + model_name(facial_model_name) + \"/model.ckpt\"\n",
    "\n",
    "def train_history_path(facial_model_name):\n",
    "    return root_location + \"ind_models/\" + model_name(facial_model_name) + \"/train_history\"\n",
    "\n",
    "def create_directory_for_specialist(facial_model_name):\n",
    "    return os.makedirs(root_location + \"ind_models/\" + model_name(facial_model_name) + \"/\", exist_ok = True)"
   ]
  },
  {
   "cell_type": "code",
   "execution_count": 6,
   "metadata": {
    "collapsed": true
   },
   "outputs": [],
   "source": [
    "def plot_sample(x, y, axis):\n",
    "    \"\"\"\n",
    "    To visualize images with keypoints.\n",
    "    Note that it also takes in axis parameter   \n",
    "    \"\"\"\n",
    "    img = x.reshape(96, 96)\n",
    "    axis.imshow(img, cmap='gray')\n",
    "    axis.scatter(y[0::2] * 48 + 48, y[1::2] * 48 + 48, marker='x', s=10)"
   ]
  },
  {
   "cell_type": "code",
   "execution_count": 7,
   "metadata": {
    "collapsed": true
   },
   "outputs": [],
   "source": [
    "#Defining functions for different layers to be used in the network\n",
    "\n",
    "def fully_connected(input, nodes):\n",
    "    \n",
    "    # Creates a fully connected layer initializing Weight W with Xavier initializer \n",
    "    # and bias b with constant initializer\n",
    "    #Input is the 4 dimension and nodes is number of units in the fully connected layer.\n",
    "    \n",
    "    \n",
    "    weights = tf.get_variable( 'weights', shape = [input.get_shape()[1], nodes],\n",
    "        initializer = tf.contrib.layers.xavier_initializer())\n",
    "    biases = tf.get_variable( 'biases',shape = [nodes],initializer=tf.constant_initializer(0.0))\n",
    "    return tf.matmul(input, weights) + biases\n",
    "\n",
    "def fully_connected_relu(input, size):\n",
    "    #Creates a fully connected TensorFlow layer with ReLU activation applied.\n",
    "    return tf.nn.relu(fully_connected(input, size))\n",
    "\n",
    "def conv_relu(input, kernel_size, depth):\n",
    "    #Creates a convolutional TensorFlow layer and applies  ReLU activation function to it.\n",
    "    #Input is 4 dimensions\n",
    "    #\n",
    "    weights = tf.get_variable( 'weights', shape = [kernel_size, kernel_size, input.get_shape()[3], depth],\n",
    "        initializer = tf.contrib.layers.xavier_initializer())\n",
    "    \n",
    "    biases = tf.get_variable( 'biases',shape = [depth],initializer=tf.constant_initializer(0.0))\n",
    "    conv = tf.nn.conv2d(input, weights,strides=[1, 1, 1, 1], padding='SAME')\n",
    "    return tf.nn.relu(conv + biases)"
   ]
  },
  {
   "cell_type": "code",
   "execution_count": 8,
   "metadata": {
    "collapsed": true
   },
   "outputs": [],
   "source": [
    "#define our convolutional layers here.\n",
    "\n",
    "def conv_flow(input, keypoints, training):\n",
    "    \n",
    "    # Convolutional layers\n",
    "    with tf.variable_scope('conv1'):\n",
    "        #Input is (num of rows, 96, 96, 1)\n",
    "        conv1 = conv_relu(input, kernel_size = 3, depth = 32) \n",
    "        \n",
    "        #shape of conv1 should be ( num of rows, 96, 96,depth ofconv1)\n",
    "        pool1 =tf.nn.max_pool(conv1,ksize=[1,2,2,1], strides=[1,2,2,1],padding='SAME')\n",
    "        \n",
    "        \n",
    "        # Apply dropout if needed\n",
    "        \n",
    "        #tf.cond is a conditional check. If training is true, then apply keep_prob, else don't apply it.\n",
    "        pool1 = tf.cond(training, lambda: tf.nn.dropout(pool1, keep_prob = 0.9), lambda: pool1)\n",
    "    with tf.variable_scope('conv2'):\n",
    "        conv2 = conv_relu(pool1, kernel_size = 2, depth = 64)\n",
    "        \n",
    "        pool2 =tf.nn.max_pool(conv2,ksize=[1,2,2,1], strides=[1,2,2,1],padding='SAME')\n",
    "        \n",
    "        # Apply dropout if needed\n",
    "        pool2 = tf.cond(training, lambda: tf.nn.dropout(pool2, keep_prob = 0.8), lambda: pool2)\n",
    "    with tf.variable_scope('conv3'):\n",
    "        conv3 = conv_relu(pool2, kernel_size = 2, depth = 128)\n",
    "        pool3 =tf.nn.max_pool(conv3,ksize=[1,2,2,1], strides=[1,2,2,1],padding='SAME')\n",
    "        # Apply dropout if needed\n",
    "        pool3 = tf.cond(training, lambda: tf.nn.dropout(pool3, keep_prob = 0.7), lambda: pool3)\n",
    "    \n",
    "    # Flatten convolutional layers output\n",
    "    shape = pool3.get_shape().as_list()\n",
    "    flattened = tf.reshape(pool3, [-1, shape[1] * shape[2] * shape[3]])\n",
    "    \n",
    "    # Fully connected layers\n",
    "    with tf.variable_scope('fc4'):\n",
    "        fc4 = fully_connected_relu(flattened, 1000)\n",
    "        \n",
    "        # Apply dropout if needed\n",
    "        fc4 = tf.cond(training, lambda: tf.nn.dropout(fc4, keep_prob = 0.5), lambda: fc4)\n",
    "    with tf.variable_scope('fc5'):\n",
    "        #We have 1000 units in our fully connected layer\n",
    "        fc5 = fully_connected_relu(fc4, 1000)\n",
    "    with tf.variable_scope('out'):\n",
    "        #the output layer is just a fully connected layer with 30 nodes for the keypoints\n",
    "        prediction = fully_connected(fc5, keypoints)\n",
    "    return prediction"
   ]
  },
  {
   "cell_type": "markdown",
   "metadata": {},
   "source": [
    "## Training"
   ]
  },
  {
   "cell_type": "code",
   "execution_count": 43,
   "metadata": {
    "collapsed": false
   },
   "outputs": [],
   "source": [
    "# parameters\n",
    "batch_size = 128\n",
    "every_epoch_to_log = 5\n",
    "\n",
    "def train_individual_model(facial_model_label):\n",
    "    \n",
    "            \n",
    "    # Load data for the group( groups are nose_tip, eye_center etc each with their own set of keypoints) \n",
    "    #and split into train, test & dev datasets\n",
    "    X, y = load2d(cols = facial_model_label['columns'])\n",
    "    x_train, x_test, y_train, y_test = train_test_split(X, y, test_size = 0.3)\n",
    "    x_test, x_valid, y_test, y_valid = train_test_split(x_test, y_test, test_size = 0.5)    \n",
    "\n",
    "    # prepare the file paths\n",
    "    feature_name = facial_model_label['name']\n",
    "    create_directory_for_specialist(feature_name)\n",
    "    spec_var_scope = model_name(feature_name)\n",
    "    initialising_model = \"3con_2fc_b36_e9_aug_lrdec_mominc_dr\"\n",
    "\n",
    "    # Calculate some of the training hyperparameters based on the specialist and available data\n",
    "    \n",
    "    max_epochs = 5\n",
    "    num_keypoints = y.shape[1]\n",
    "    \n",
    "    # training time start\n",
    "    time_start = time.time()\n",
    "    \n",
    "    # Build the graph\n",
    "    graph = tf.Graph()\n",
    "    with graph.as_default():\n",
    "        # Input data. For the training data, we use a placeholder that will be fed at run time with a training minibatch.\n",
    "        tf_x_batch = tf.placeholder(tf.float32, shape = (None, image_size, image_size, num_channels))\n",
    "        tf_y_batch = tf.placeholder(tf.float32, shape = (None, num_keypoints))\n",
    "        is_training = tf.placeholder(tf.bool)\n",
    "        \n",
    "        current_epoch = tf.Variable(0)  # count the number of epochs\n",
    "\n",
    "        # learning rate decay. - Idea is to start with high learning rate to speed up but decrease as we get closer to \n",
    "        #the local optimum so that we don't surpass it.\n",
    "        learning_rate = tf.train.exponential_decay(0.03, current_epoch, decay_steps = max_epochs, decay_rate = 0.03)\n",
    "        momentum = 0.9 + (0.99 - 0.9) * (current_epoch / max_epochs)\n",
    "\n",
    "        # Training computation.\n",
    "        with tf.variable_scope(spec_var_scope):\n",
    "            predictions = conv_flow(tf_x_batch, num_keypoints, is_training)\n",
    "\n",
    "        loss = tf.reduce_mean(tf.square(predictions - tf_y_batch))\n",
    "\n",
    "        # Optimizer.\n",
    "        optimizer = tf.train.MomentumOptimizer(\n",
    "            learning_rate = learning_rate, \n",
    "            momentum = momentum, \n",
    "            use_nesterov = True\n",
    "        ).minimize(loss)\n",
    "    \n",
    "    # Initiate training\n",
    "    with tf.Session(graph = graph) as session:\n",
    "        session.run(tf.global_variables_initializer())\n",
    "        saver = tf.train.Saver()\n",
    "        train_loss_history = np.zeros(max_epochs)\n",
    "        valid_loss_history = np.zeros(max_epochs)\n",
    "        test_pred = np.zeros((x_test.shape[0],y.shape[1]))\n",
    "        \n",
    "        print(\" RESTORING SESSION FOR WEIGHTS INITIALIZATION\")\n",
    "        # Exclude output layer weights from variables we will restore\n",
    "        variables_to_restore = [v for v in tf.global_variables() if \"/out/\" not in v.op.name]\n",
    "        # Replace variables scope with that of the current model\n",
    "        loader = tf.train.Saver({v.op.name.replace(spec_var_scope, initialising_model): v for v in variables_to_restore})\n",
    "        load_path = root_location + initialising_model + \"/model.ckpt\"\n",
    "        loader.restore(session, load_path)\n",
    "        print(\" Model loaded from: \" + load_path)\n",
    "\n",
    "        print(\" TRAINING: \" + feature_name + \" on \" + str(y.shape[0]) + \" EXAMPLES \")\n",
    "        for epoch in range(max_epochs):\n",
    "            current_epoch = epoch\n",
    "            # print(\"epoch\", epoch)\n",
    "            # Train on whole randomised dataset in batches\n",
    "            \n",
    "            #No flipping yet\n",
    "            \n",
    "            shuffle = np.random.permutation(np.arange(x_train.shape[0])) #shuffle \n",
    "            X, y = x_train[shuffle], y_train[shuffle]\n",
    "            for i in range(int(X.shape[0]//batch_size)): \n",
    "                X_batch,y_batch = X[i*batch_size:(i+1)*batch_size,:],y[i*batch_size:(i+1)*batch_size]\n",
    "                session.run([optimizer], feed_dict = {\n",
    "                        tf_x_batch : X_batch, \n",
    "                        tf_y_batch : y_batch,\n",
    "                        is_training : True\n",
    "                    }\n",
    "                )\n",
    "\n",
    "            \n",
    "            \n",
    "            # If another significant epoch ended, we log our losses.\n",
    "            if (epoch % every_epoch_to_log == 0):\n",
    "                # Get training data predictions and log training loss:\n",
    "                #training loss for the last batch\n",
    "                train_loss = loss.eval(feed_dict = {tf_x_batch:X_batch,tf_y_batch:y_batch, is_training : True})\n",
    "                train_loss_history[epoch] = train_loss\n",
    "            # Get validation data loss:\n",
    "                valid_loss = loss.eval(feed_dict = {tf_x_batch:x_valid,tf_y_batch:y_valid, is_training : False})\n",
    "                valid_loss_history[epoch] = valid_loss\n",
    "            \n",
    "                \n",
    "                 #training time end\n",
    "                time_stop = time.time()\n",
    "                \n",
    "                #since we have lots of epochs,and more data, and many more models, we dispaly losses for every \n",
    "                #100 epochs\n",
    "                if (epoch % 100 == 0):\n",
    "                    print(\" EPOCH %4d/%d \" % (epoch, max_epochs))\n",
    "                    print(\"Train loss: %.8f\" % (train_loss))\n",
    "                    print(\"Validation loss: %.8f\" % (valid_loss))\n",
    "                    print(\"Time: \" , time_stop - time_start)\n",
    "            \n",
    "            \n",
    "            \n",
    "        # Evaluate on test dataset.\n",
    "        test_loss =  loss.eval(feed_dict = {tf_x_batch:x_test,tf_y_batch:y_test, is_training : False})\n",
    "        \n",
    "        #Plot a graph of the train vs test loss data:\n",
    "    \n",
    "        plt.plot(train_loss_history, label=\"train\")\n",
    "        plt.plot(valid_loss_history, linewidth=3, label=\"valid\")\n",
    "        plt.grid()\n",
    "        plt.legend()\n",
    "        plt.xlabel(\"epoch\")\n",
    "        plt.ylabel(\"loss\")\n",
    "        plt.yscale(\"log\")\n",
    "        plt.show()\n",
    "        \n",
    "        print(feature_name)\n",
    "        print(\" Test score: %.3f (loss = %.8f)\" % (np.sqrt(test_loss) * 48.0, test_loss)) \n",
    "        print(\" Total time: \" ,time_stop - time_start )\n",
    "\n",
    "        # Save model weights for future use.\n",
    "        save_path = saver.save(session, model_path(feature_name))\n",
    "        print(\"Model file: \" + save_path)\n",
    "        np.savez(train_history_path(feature_name), train_loss_history = train_loss_history, valid_loss_history = valid_loss_history)\n",
    "        print(\"Train history file: \" + train_history_path(feature_name))        \n",
    "        print(\"\\n\")\n",
    "        \n",
    "        "
   ]
  },
  {
   "cell_type": "code",
   "execution_count": 44,
   "metadata": {
    "collapsed": false
   },
   "outputs": [
    {
     "name": "stdout",
     "output_type": "stream",
     "text": [
      "mouth_left_corner_x       2269\n",
      "mouth_left_corner_y       2269\n",
      "mouth_right_corner_x      2270\n",
      "mouth_right_corner_y      2270\n",
      "mouth_center_top_lip_x    2275\n",
      "mouth_center_top_lip_y    2275\n",
      "Image                     7049\n",
      "dtype: int64\n",
      " RESTORING SESSION FOR WEIGHTS INITIALIZATION\n",
      "INFO:tensorflow:Restoring parameters from /Users/anamika/W207_local/class/models/3con_2fc_b36_e9_aug_lrdec_mominc_dr/model.ckpt\n",
      " Model loaded from: /Users/anamika/W207_local/class/models/3con_2fc_b36_e9_aug_lrdec_mominc_dr/model.ckpt\n",
      " TRAINING: mouth_corner_top on 2260 EXAMPLES \n",
      " EPOCH    0/5 \n",
      "Train loss: 0.00829276\n",
      "Validation loss: 0.01423701\n",
      "Time:  41.626102924346924\n"
     ]
    },
    {
     "data": {
      "image/png": "[encoded data removed]",
      "text/plain": [
       "<matplotlib.figure.Figure at 0x1071f54e0>"
      ]
     },
     "metadata": {},
     "output_type": "display_data"
    },
    {
     "name": "stdout",
     "output_type": "stream",
     "text": [
      "mouth_corner_top\n",
      " Test score: 3.927 (loss = 0.00669466)\n",
      " Total time:  41.626102924346924\n",
      "Model file: /Users/anamika/W207_local/class/models/ind_models/model_mouth_corner_top/model.ckpt\n",
      "Train history file: /Users/anamika/W207_local/class/models/ind_models/model_mouth_corner_top/train_history\n",
      "\n",
      "\n",
      "nose_tip_x    7049\n",
      "nose_tip_y    7049\n",
      "Image         7049\n",
      "dtype: int64\n",
      " RESTORING SESSION FOR WEIGHTS INITIALIZATION\n",
      "INFO:tensorflow:Restoring parameters from /Users/anamika/W207_local/class/models/3con_2fc_b36_e9_aug_lrdec_mominc_dr/model.ckpt\n",
      " Model loaded from: /Users/anamika/W207_local/class/models/3con_2fc_b36_e9_aug_lrdec_mominc_dr/model.ckpt\n",
      " TRAINING: nose_tip on 7049 EXAMPLES \n",
      " EPOCH    0/5 \n",
      "Train loss: 0.01205812\n",
      "Validation loss: 0.01127749\n",
      "Time:  129.74994206428528\n"
     ]
    },
    {
     "data": {
      "image/png": "[encoded data removed]",
      "text/plain": [
       "<matplotlib.figure.Figure at 0x12acd37b8>"
      ]
     },
     "metadata": {},
     "output_type": "display_data"
    },
    {
     "name": "stdout",
     "output_type": "stream",
     "text": [
      "nose_tip\n",
      " Test score: 5.037 (loss = 0.01101338)\n",
      " Total time:  129.74994206428528\n",
      "Model file: /Users/anamika/W207_local/class/models/ind_models/model_nose_tip/model.ckpt\n",
      "Train history file: /Users/anamika/W207_local/class/models/ind_models/model_nose_tip/train_history\n",
      "\n",
      "\n",
      " Total time for all models:  812.4140899181366\n"
     ]
    }
   ],
   "source": [
    "start = time.time()\n",
    "\n",
    "for facial_model_label in facial_group_labels:\n",
    "    train_individual_model(facial_model_label)\n",
    "\n",
    "time_stop = time.time()    \n",
    "print(\" Total time for all models: \" , time_stop - start)    \n",
    "    \n",
    "    "
   ]
  },
  {
   "cell_type": "code",
   "execution_count": 45,
   "metadata": {
    "collapsed": false
   },
   "outputs": [],
   "source": [
    "# Plots history of learning curves for a specific model. \n",
    "def plot_learning_curves(spec_name, color):\n",
    "    \n",
    "    model_history = np.load(train_history_path(spec_name) + \".npz\")\n",
    "    train_loss = model_history[\"train_loss_history\"]\n",
    "    valid_loss = model_history[\"valid_loss_history\"]\n",
    "    epochs = train_loss.shape[0]\n",
    "    x_axis = np.arange(epochs)\n",
    "    plt.plot(x_axis[train_loss > 0], train_loss[train_loss > 0], color + \"--\", linewidth=2, label = spec_name.replace(\"_\", \" \").title())\n",
    "    plt.plot(x_axis[valid_loss > 0], valid_loss[valid_loss > 0], color + \"-\", linewidth=2)\n",
    "    return epochs"
   ]
  },
  {
   "cell_type": "code",
   "execution_count": 46,
   "metadata": {
    "collapsed": false,
    "scrolled": false
   },
   "outputs": [
    {
     "name": "stdout",
     "output_type": "stream",
     "text": [
      "mouth_corner_top\n",
      "nose_tip\n"
     ]
    },
    {
     "data": {
      "image/png": "[encoded data removed]",
      "text/plain": [
       "<matplotlib.figure.Figure at 0x11c3885f8>"
      ]
     },
     "metadata": {},
     "output_type": "display_data"
    }
   ],
   "source": [
    "max_model_epochs = 0\n",
    "colors = [\"b\", \"g\", \"r\", \"c\", \"m\", \"y\", \"k\", \"w\"]\n",
    "for facial_model_label in facial_group_labels:\n",
    "    ind_epochs = plot_learning_curves(facial_model_label['name'], colors[facial_group_labels.index(facial_model_label) % len(colors)])\n",
    "    print(facial_model_label['name'])\n",
    "    if ind_epochs > max_model_epochs:\n",
    "          max_model_epochs = ind_epochs\n",
    "\n",
    "plt.grid()\n",
    "plt.legend()\n",
    "plt.xlabel(\"epoch\")\n",
    "plt.ylabel(\"loss\")\n",
    "plt.ylim(0.0003, 0.05)\n",
    "plt.xlim(0, max_model_epochs)\n",
    "plt.yscale(\"log\")\n",
    "plt.show()\n",
    "\n"
   ]
  }
 ],
 "metadata": {
  "anaconda-cloud": {},
  "kernelspec": {
   "display_name": "Python 3",
   "language": "python",
   "name": "python3"
  },
  "language_info": {
   "codemirror_mode": {
    "name": "ipython",
    "version": 3
   },
   "file_extension": ".py",
   "mimetype": "text/x-python",
   "name": "python",
   "nbconvert_exporter": "python",
   "pygments_lexer": "ipython3",
   "version": "3.6.0"
  }
 },
 "nbformat": 4,
 "nbformat_minor": 0
}
